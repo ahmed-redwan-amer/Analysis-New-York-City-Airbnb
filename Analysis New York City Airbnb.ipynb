{
 "cells": [
  {
   "cell_type": "code",
   "execution_count": 1,
   "metadata": {},
   "outputs": [],
   "source": [
    "#1-تتيح لك قدرة التعامل مع المصفوفات بطريقة أفضل من ال Lists الموجودة تلقائيا كشكل من أشكال تراكيب البيانات في البايثون.\n",
    "import numpy as np\n",
    "#2-الهدف الأساسي لمكتبة Pandas هو إجراء ما يسمى ب Data Munging، ونقصد بهذا المصطلح إجراء تغييرات على بيانات أساسية غير مرتبة (Raw data) بحيث تقوم عملية التغيير هذه بتحويل البيانات إلى بيانات مفهومة ومفيدة.\n",
    "import pandas as pd\n",
    "#3-هي مختصة برسومات 2D، وعلى الرغم من أن هذه المكتبة من أقدم المكتبات المختصة بالإظهار المرئي للبيانات، إلا أنها ما زالت تتربع على عرش المكتبات المُستخدمة في هذا المجال، وتم بناؤها لتكون مُشابهة لدور برنامج Matlab.\n",
    "import matplotlib.pyplot as plt\n",
    "#4-can be used for data visualization. In this article we will look at Seaborn which is another extremely useful library for data visualization in Python. \n",
    "import seaborn as sns"
   ]
  },
  {
   "cell_type": "code",
   "execution_count": 2,
   "metadata": {},
   "outputs": [],
   "source": [
    "data=pd.read_csv(r\"D:\\PYTHON\\GITHUB code\\done\\Analysis New York City Airbnb\\AB_NYC_2019.csv\")\n"
   ]
  },
  {
   "cell_type": "code",
   "execution_count": 3,
   "metadata": {},
   "outputs": [
    {
     "data": {
      "text/html": [
       "<div>\n",
       "<style scoped>\n",
       "    .dataframe tbody tr th:only-of-type {\n",
       "        vertical-align: middle;\n",
       "    }\n",
       "\n",
       "    .dataframe tbody tr th {\n",
       "        vertical-align: top;\n",
       "    }\n",
       "\n",
       "    .dataframe thead th {\n",
       "        text-align: right;\n",
       "    }\n",
       "</style>\n",
       "<table border=\"1\" class=\"dataframe\">\n",
       "  <thead>\n",
       "    <tr style=\"text-align: right;\">\n",
       "      <th></th>\n",
       "      <th>id</th>\n",
       "      <th>name</th>\n",
       "      <th>host_id</th>\n",
       "      <th>host_name</th>\n",
       "      <th>neighbourhood_group</th>\n",
       "      <th>neighbourhood</th>\n",
       "      <th>latitude</th>\n",
       "      <th>longitude</th>\n",
       "      <th>room_type</th>\n",
       "      <th>price</th>\n",
       "      <th>minimum_nights</th>\n",
       "      <th>number_of_reviews</th>\n",
       "      <th>last_review</th>\n",
       "      <th>reviews_per_month</th>\n",
       "      <th>calculated_host_listings_count</th>\n",
       "      <th>availability_365</th>\n",
       "    </tr>\n",
       "  </thead>\n",
       "  <tbody>\n",
       "    <tr>\n",
       "      <th>0</th>\n",
       "      <td>2539</td>\n",
       "      <td>Clean &amp; quiet apt home by the park</td>\n",
       "      <td>2787</td>\n",
       "      <td>John</td>\n",
       "      <td>Brooklyn</td>\n",
       "      <td>Kensington</td>\n",
       "      <td>40.64749</td>\n",
       "      <td>-73.97237</td>\n",
       "      <td>Private room</td>\n",
       "      <td>149</td>\n",
       "      <td>1</td>\n",
       "      <td>9</td>\n",
       "      <td>2018-10-19</td>\n",
       "      <td>0.21</td>\n",
       "      <td>6</td>\n",
       "      <td>365</td>\n",
       "    </tr>\n",
       "    <tr>\n",
       "      <th>1</th>\n",
       "      <td>2595</td>\n",
       "      <td>Skylit Midtown Castle</td>\n",
       "      <td>2845</td>\n",
       "      <td>Jennifer</td>\n",
       "      <td>Manhattan</td>\n",
       "      <td>Midtown</td>\n",
       "      <td>40.75362</td>\n",
       "      <td>-73.98377</td>\n",
       "      <td>Entire home/apt</td>\n",
       "      <td>225</td>\n",
       "      <td>1</td>\n",
       "      <td>45</td>\n",
       "      <td>2019-05-21</td>\n",
       "      <td>0.38</td>\n",
       "      <td>2</td>\n",
       "      <td>355</td>\n",
       "    </tr>\n",
       "    <tr>\n",
       "      <th>2</th>\n",
       "      <td>3647</td>\n",
       "      <td>THE VILLAGE OF HARLEM....NEW YORK !</td>\n",
       "      <td>4632</td>\n",
       "      <td>Elisabeth</td>\n",
       "      <td>Manhattan</td>\n",
       "      <td>Harlem</td>\n",
       "      <td>40.80902</td>\n",
       "      <td>-73.94190</td>\n",
       "      <td>Private room</td>\n",
       "      <td>150</td>\n",
       "      <td>3</td>\n",
       "      <td>0</td>\n",
       "      <td>NaN</td>\n",
       "      <td>NaN</td>\n",
       "      <td>1</td>\n",
       "      <td>365</td>\n",
       "    </tr>\n",
       "  </tbody>\n",
       "</table>\n",
       "</div>"
      ],
      "text/plain": [
       "     id                                 name  host_id  host_name  \\\n",
       "0  2539   Clean & quiet apt home by the park     2787       John   \n",
       "1  2595                Skylit Midtown Castle     2845   Jennifer   \n",
       "2  3647  THE VILLAGE OF HARLEM....NEW YORK !     4632  Elisabeth   \n",
       "\n",
       "  neighbourhood_group neighbourhood  latitude  longitude        room_type  \\\n",
       "0            Brooklyn    Kensington  40.64749  -73.97237     Private room   \n",
       "1           Manhattan       Midtown  40.75362  -73.98377  Entire home/apt   \n",
       "2           Manhattan        Harlem  40.80902  -73.94190     Private room   \n",
       "\n",
       "   price  minimum_nights  number_of_reviews last_review  reviews_per_month  \\\n",
       "0    149               1                  9  2018-10-19               0.21   \n",
       "1    225               1                 45  2019-05-21               0.38   \n",
       "2    150               3                  0         NaN                NaN   \n",
       "\n",
       "   calculated_host_listings_count  availability_365  \n",
       "0                               6               365  \n",
       "1                               2               355  \n",
       "2                               1               365  "
      ]
     },
     "execution_count": 3,
     "metadata": {},
     "output_type": "execute_result"
    }
   ],
   "source": [
    "#عشان حجم الداتا كبيره بنستخدم الفانكشن عشان نقطع جزء من البيانات \n",
    "data.head(3)"
   ]
  },
  {
   "cell_type": "code",
   "execution_count": 4,
   "metadata": {},
   "outputs": [],
   "source": [
    "#هنملي القيم الناقصه  بصفر مؤقتا \n",
    "#هنمسح الكود ده عشان هيسببلنا مشاكل بعد كده هيكون عندي اصفار كتير\n",
    "#data.fillna(0,inplace=True)\n",
    "y=data[\"price\"]"
   ]
  },
  {
   "cell_type": "code",
   "execution_count": 5,
   "metadata": {},
   "outputs": [],
   "source": [
    "#هنشيل الداتا الي عايزين نتوقعهاو عندنا هنا هتكون السعر\n",
    "data=data.drop(\"price\",axis=1)\n",
    "x=data"
   ]
  },
  {
   "cell_type": "code",
   "execution_count": 6,
   "metadata": {},
   "outputs": [],
   "source": [
    "#هنمسح الداتا الي ملهاش لازمه عندنا و هنا كانت 4 \n",
    "x=x.drop(\"id\",axis=1)\n",
    "x=x.drop(\"host_id\",axis=1)\n",
    "x=x.drop(\"name\",axis=1)\n",
    "x=x.drop(\"host_name\",axis=1)\n",
    "#هنمسح خطوط الطول و العرض ملهاش لازمه بالنسبه للسعر\n",
    "x=x.drop([\"latitude\",\"longitude\"],axis=1)\n"
   ]
  },
  {
   "cell_type": "code",
   "execution_count": 7,
   "metadata": {},
   "outputs": [],
   "source": [
    "#هنحول الاسامي بروكلن و منهاتن عباره عن 0و1 عشان نقدر نعمل تحليل\n",
    "#هنجيب حاجه اسمها دامي فاليوز الي انا مش عارف معناها ايه بالظبطك\n",
    "df_ngroup=pd.get_dummies(x[\"neighbourhood_group\"])"
   ]
  },
  {
   "cell_type": "code",
   "execution_count": 8,
   "metadata": {},
   "outputs": [],
   "source": [
    "# طلع حوار صايع فشخ هندنا في العمود ده 5 مناطق ف لفو الكمبيوتر ادي لكل واحد فيهم صيغ \n",
    "#من 1لحد 5 ممكن الكمبيوتر يعمل عمليات منطقيه عليهم مثلا 1 اصغر من 5 ةهكذا لذالك ادا المنطقه الموجوده في العمود 1 و بقيه المناطق اداهم صفر\n",
    "#عايزين نربط الداتا ببعض هنستخدم فانكشن  اول مره نستخدمها من مكتبه panda \n",
    "#الفانكشن دي بتدمج الصفوف الي طلعت من الفانكشن الي قبلها مع بقيه الداتا\n",
    "x=pd.concat([x,df_ngroup],axis=1)"
   ]
  },
  {
   "cell_type": "code",
   "execution_count": 9,
   "metadata": {},
   "outputs": [],
   "source": [
    "#هنمسح الصف ده لانه ملهوش لازمه دلوقتي اتحول 0 و 1 خلاص\n",
    "x=x.drop(\"neighbourhood_group\",axis=1)"
   ]
  },
  {
   "cell_type": "code",
   "execution_count": 10,
   "metadata": {},
   "outputs": [],
   "source": [
    "#هنبدا شغل علي العرف \n",
    "df_room=pd.get_dummies(x[\"room_type\"])\n",
    "#هنحول ل 0و1\n",
    "x=pd.concat([x,df_room],axis=1)"
   ]
  },
  {
   "cell_type": "code",
   "execution_count": 11,
   "metadata": {},
   "outputs": [],
   "source": [
    "#هنمسح الغرف عشان حولناها\n",
    "x=x.drop(\"room_type\",axis=1)"
   ]
  },
  {
   "cell_type": "code",
   "execution_count": 12,
   "metadata": {},
   "outputs": [],
   "source": [
    "#هنعمل مع نوع الجار الي عملناه مع كل الي فات\n",
    "#df_ni=pd.get_dummies(x[\"neighbourhood\"])\n",
    "\n",
    "#x=pd.concat([x,df_ni],axis=1)\n",
    "\n",
    "x=x.drop(\"neighbourhood\",axis=1)\n"
   ]
  },
  {
   "cell_type": "code",
   "execution_count": 13,
   "metadata": {},
   "outputs": [
    {
     "data": {
      "text/plain": [
       "<bound method DataFrame.sum of        minimum_nights  number_of_reviews  last_review  reviews_per_month  \\\n",
       "0               False              False        False              False   \n",
       "1               False              False        False              False   \n",
       "2               False              False         True               True   \n",
       "3               False              False        False              False   \n",
       "4               False              False        False              False   \n",
       "5               False              False        False              False   \n",
       "6               False              False        False              False   \n",
       "7               False              False        False              False   \n",
       "8               False              False        False              False   \n",
       "9               False              False        False              False   \n",
       "10              False              False        False              False   \n",
       "11              False              False        False              False   \n",
       "12              False              False        False              False   \n",
       "13              False              False        False              False   \n",
       "14              False              False        False              False   \n",
       "15              False              False        False              False   \n",
       "16              False              False        False              False   \n",
       "17              False              False        False              False   \n",
       "18              False              False        False              False   \n",
       "19              False              False         True               True   \n",
       "20              False              False        False              False   \n",
       "21              False              False        False              False   \n",
       "22              False              False        False              False   \n",
       "23              False              False        False              False   \n",
       "24              False              False        False              False   \n",
       "25              False              False        False              False   \n",
       "26              False              False         True               True   \n",
       "27              False              False        False              False   \n",
       "28              False              False        False              False   \n",
       "29              False              False        False              False   \n",
       "...               ...                ...          ...                ...   \n",
       "48865           False              False         True               True   \n",
       "48866           False              False         True               True   \n",
       "48867           False              False         True               True   \n",
       "48868           False              False         True               True   \n",
       "48869           False              False         True               True   \n",
       "48870           False              False         True               True   \n",
       "48871           False              False         True               True   \n",
       "48872           False              False         True               True   \n",
       "48873           False              False         True               True   \n",
       "48874           False              False         True               True   \n",
       "48875           False              False         True               True   \n",
       "48876           False              False         True               True   \n",
       "48877           False              False         True               True   \n",
       "48878           False              False         True               True   \n",
       "48879           False              False         True               True   \n",
       "48880           False              False         True               True   \n",
       "48881           False              False         True               True   \n",
       "48882           False              False         True               True   \n",
       "48883           False              False         True               True   \n",
       "48884           False              False         True               True   \n",
       "48885           False              False         True               True   \n",
       "48886           False              False         True               True   \n",
       "48887           False              False         True               True   \n",
       "48888           False              False         True               True   \n",
       "48889           False              False         True               True   \n",
       "48890           False              False         True               True   \n",
       "48891           False              False         True               True   \n",
       "48892           False              False         True               True   \n",
       "48893           False              False         True               True   \n",
       "48894           False              False         True               True   \n",
       "\n",
       "       calculated_host_listings_count  availability_365  Bronx  Brooklyn  \\\n",
       "0                               False             False  False     False   \n",
       "1                               False             False  False     False   \n",
       "2                               False             False  False     False   \n",
       "3                               False             False  False     False   \n",
       "4                               False             False  False     False   \n",
       "5                               False             False  False     False   \n",
       "6                               False             False  False     False   \n",
       "7                               False             False  False     False   \n",
       "8                               False             False  False     False   \n",
       "9                               False             False  False     False   \n",
       "10                              False             False  False     False   \n",
       "11                              False             False  False     False   \n",
       "12                              False             False  False     False   \n",
       "13                              False             False  False     False   \n",
       "14                              False             False  False     False   \n",
       "15                              False             False  False     False   \n",
       "16                              False             False  False     False   \n",
       "17                              False             False  False     False   \n",
       "18                              False             False  False     False   \n",
       "19                              False             False  False     False   \n",
       "20                              False             False  False     False   \n",
       "21                              False             False  False     False   \n",
       "22                              False             False  False     False   \n",
       "23                              False             False  False     False   \n",
       "24                              False             False  False     False   \n",
       "25                              False             False  False     False   \n",
       "26                              False             False  False     False   \n",
       "27                              False             False  False     False   \n",
       "28                              False             False  False     False   \n",
       "29                              False             False  False     False   \n",
       "...                               ...               ...    ...       ...   \n",
       "48865                           False             False  False     False   \n",
       "48866                           False             False  False     False   \n",
       "48867                           False             False  False     False   \n",
       "48868                           False             False  False     False   \n",
       "48869                           False             False  False     False   \n",
       "48870                           False             False  False     False   \n",
       "48871                           False             False  False     False   \n",
       "48872                           False             False  False     False   \n",
       "48873                           False             False  False     False   \n",
       "48874                           False             False  False     False   \n",
       "48875                           False             False  False     False   \n",
       "48876                           False             False  False     False   \n",
       "48877                           False             False  False     False   \n",
       "48878                           False             False  False     False   \n",
       "48879                           False             False  False     False   \n",
       "48880                           False             False  False     False   \n",
       "48881                           False             False  False     False   \n",
       "48882                           False             False  False     False   \n",
       "48883                           False             False  False     False   \n",
       "48884                           False             False  False     False   \n",
       "48885                           False             False  False     False   \n",
       "48886                           False             False  False     False   \n",
       "48887                           False             False  False     False   \n",
       "48888                           False             False  False     False   \n",
       "48889                           False             False  False     False   \n",
       "48890                           False             False  False     False   \n",
       "48891                           False             False  False     False   \n",
       "48892                           False             False  False     False   \n",
       "48893                           False             False  False     False   \n",
       "48894                           False             False  False     False   \n",
       "\n",
       "       Manhattan  Queens  Staten Island  Entire home/apt  Private room  \\\n",
       "0          False   False          False            False         False   \n",
       "1          False   False          False            False         False   \n",
       "2          False   False          False            False         False   \n",
       "3          False   False          False            False         False   \n",
       "4          False   False          False            False         False   \n",
       "5          False   False          False            False         False   \n",
       "6          False   False          False            False         False   \n",
       "7          False   False          False            False         False   \n",
       "8          False   False          False            False         False   \n",
       "9          False   False          False            False         False   \n",
       "10         False   False          False            False         False   \n",
       "11         False   False          False            False         False   \n",
       "12         False   False          False            False         False   \n",
       "13         False   False          False            False         False   \n",
       "14         False   False          False            False         False   \n",
       "15         False   False          False            False         False   \n",
       "16         False   False          False            False         False   \n",
       "17         False   False          False            False         False   \n",
       "18         False   False          False            False         False   \n",
       "19         False   False          False            False         False   \n",
       "20         False   False          False            False         False   \n",
       "21         False   False          False            False         False   \n",
       "22         False   False          False            False         False   \n",
       "23         False   False          False            False         False   \n",
       "24         False   False          False            False         False   \n",
       "25         False   False          False            False         False   \n",
       "26         False   False          False            False         False   \n",
       "27         False   False          False            False         False   \n",
       "28         False   False          False            False         False   \n",
       "29         False   False          False            False         False   \n",
       "...          ...     ...            ...              ...           ...   \n",
       "48865      False   False          False            False         False   \n",
       "48866      False   False          False            False         False   \n",
       "48867      False   False          False            False         False   \n",
       "48868      False   False          False            False         False   \n",
       "48869      False   False          False            False         False   \n",
       "48870      False   False          False            False         False   \n",
       "48871      False   False          False            False         False   \n",
       "48872      False   False          False            False         False   \n",
       "48873      False   False          False            False         False   \n",
       "48874      False   False          False            False         False   \n",
       "48875      False   False          False            False         False   \n",
       "48876      False   False          False            False         False   \n",
       "48877      False   False          False            False         False   \n",
       "48878      False   False          False            False         False   \n",
       "48879      False   False          False            False         False   \n",
       "48880      False   False          False            False         False   \n",
       "48881      False   False          False            False         False   \n",
       "48882      False   False          False            False         False   \n",
       "48883      False   False          False            False         False   \n",
       "48884      False   False          False            False         False   \n",
       "48885      False   False          False            False         False   \n",
       "48886      False   False          False            False         False   \n",
       "48887      False   False          False            False         False   \n",
       "48888      False   False          False            False         False   \n",
       "48889      False   False          False            False         False   \n",
       "48890      False   False          False            False         False   \n",
       "48891      False   False          False            False         False   \n",
       "48892      False   False          False            False         False   \n",
       "48893      False   False          False            False         False   \n",
       "48894      False   False          False            False         False   \n",
       "\n",
       "       Shared room  \n",
       "0            False  \n",
       "1            False  \n",
       "2            False  \n",
       "3            False  \n",
       "4            False  \n",
       "5            False  \n",
       "6            False  \n",
       "7            False  \n",
       "8            False  \n",
       "9            False  \n",
       "10           False  \n",
       "11           False  \n",
       "12           False  \n",
       "13           False  \n",
       "14           False  \n",
       "15           False  \n",
       "16           False  \n",
       "17           False  \n",
       "18           False  \n",
       "19           False  \n",
       "20           False  \n",
       "21           False  \n",
       "22           False  \n",
       "23           False  \n",
       "24           False  \n",
       "25           False  \n",
       "26           False  \n",
       "27           False  \n",
       "28           False  \n",
       "29           False  \n",
       "...            ...  \n",
       "48865        False  \n",
       "48866        False  \n",
       "48867        False  \n",
       "48868        False  \n",
       "48869        False  \n",
       "48870        False  \n",
       "48871        False  \n",
       "48872        False  \n",
       "48873        False  \n",
       "48874        False  \n",
       "48875        False  \n",
       "48876        False  \n",
       "48877        False  \n",
       "48878        False  \n",
       "48879        False  \n",
       "48880        False  \n",
       "48881        False  \n",
       "48882        False  \n",
       "48883        False  \n",
       "48884        False  \n",
       "48885        False  \n",
       "48886        False  \n",
       "48887        False  \n",
       "48888        False  \n",
       "48889        False  \n",
       "48890        False  \n",
       "48891        False  \n",
       "48892        False  \n",
       "48893        False  \n",
       "48894        False  \n",
       "\n",
       "[48895 rows x 14 columns]>"
      ]
     },
     "execution_count": 13,
     "metadata": {},
     "output_type": "execute_result"
    }
   ],
   "source": [
    "#هنشيل الجيران عشان عددهم 221 نوع و هتصعب التحليل عليا جدا لذالك نفضل نشيلها\n",
    "#هنشوف موجود كام ىشى في الداتا\n",
    "x.isna().sum\n",
    "#هنبدا نعوض الداتا الناقصه"
   ]
  },
  {
   "cell_type": "code",
   "execution_count": 14,
   "metadata": {},
   "outputs": [],
   "source": [
    "#هنستخدم المتوسط لملء الداتا \n",
    "x[\"reviews_per_month\"].fillna(x[\"reviews_per_month\"].mean(),inplace=True)"
   ]
  },
  {
   "cell_type": "code",
   "execution_count": 15,
   "metadata": {},
   "outputs": [],
   "source": [
    "#هيغير الداتا باقرب حاجه عندها\n",
    "\n",
    "x[\"last_review\"].fillna(method=\"ffill\",inplace=True)\n"
   ]
  },
  {
   "cell_type": "code",
   "execution_count": 16,
   "metadata": {},
   "outputs": [],
   "source": [
    "#همسح معاد اخر تقيم لعدم اهميه القصوي بس ممكن نستخدمهم عادي\n",
    "x=x.drop(\"last_review\",axis=1)"
   ]
  },
  {
   "cell_type": "code",
   "execution_count": 17,
   "metadata": {},
   "outputs": [],
   "source": [
    "#هستدعي الملفات تاني عشان تبقي الداتا بيور و عشان الغي الاصفار و الوحايد الكتير الي ضفتهم \n",
    "data_new=pd.read_csv(r\"D:\\PYTHON\\GITHUB code\\done\\Analysis New York City Airbnb\\AB_NYC_2019.csv\")\n"
   ]
  },
  {
   "cell_type": "code",
   "execution_count": 18,
   "metadata": {},
   "outputs": [
    {
     "data": {
      "image/png": "[encoded data removed]",
      "text/plain": [
       "<Figure size 432x288 with 1 Axes>"
      ]
     },
     "metadata": {
      "needs_background": "light"
     },
     "output_type": "display_data"
    }
   ],
   "source": [
    "#هنحاول نطلع علاقات بين البيانات \n",
    "x2=sns.countplot(x=\"neighbourhood_group\",data=data_new)"
   ]
  },
  {
   "cell_type": "code",
   "execution_count": 26,
   "metadata": {},
   "outputs": [
    {
     "data": {
      "image/png": "[encoded data removed]",
      "text/plain": [
       "<Figure size 432x288 with 1 Axes>"
      ]
     },
     "metadata": {
      "needs_background": "light"
     },
     "output_type": "display_data"
    }
   ],
   "source": [
    "#هحط عنوان للداتا ككل\n",
    "plt.title(\"popular_neighbourhood_group\")\n",
    "#هنحط  عنوان للx\n",
    "plt.xlabel(\"neighbourhood_group\")\n",
    "#هنحط  عنوانy\n",
    "\n",
    "plt.ylabel(\"count\")\n",
    "#هعرض الداتا بتاعتي\n",
    "plt.show()"
   ]
  },
  {
   "cell_type": "code",
   "execution_count": 23,
   "metadata": {},
   "outputs": [
    {
     "data": {
      "image/png": "[encoded data removed]",
      "text/plain": [
       "<Figure size 432x288 with 1 Axes>"
      ]
     },
     "metadata": {
      "needs_background": "light"
     },
     "output_type": "display_data"
    }
   ],
   "source": [
    "#هنحاول نطلع علاقات بين البيانات من نفس النوع \n",
    "###########هنا بنعمل كل ده عشان الرسمه سواء المحاور او اسم الرسمه و ما يخصها\n",
    "#لازم لازم نعمل بيانات الرسمه عشان نقدر نطلع علاقات \n",
    "x1=sns.countplot(x=\"room_type\",data=data_new)"
   ]
  },
  {
   "cell_type": "code",
   "execution_count": 25,
   "metadata": {},
   "outputs": [
    {
     "data": {
      "image/png": "[encoded data removed]",
      "text/plain": [
       "<Figure size 432x288 with 1 Axes>"
      ]
     },
     "metadata": {
      "needs_background": "light"
     },
     "output_type": "display_data"
    }
   ],
   "source": [
    "plt.title(\"room type distribution\")\n",
    "#هنحط  عنوان للx\n",
    "\n",
    "plt.xlabel(\"room type\")\n",
    "#هنحط  عنوانy\n",
    "\n",
    "plt.ylabel(\"frequency\")\n",
    "#هعرض الداتا بتاعتي\n",
    "\n",
    "plt.show()"
   ]
  },
  {
   "cell_type": "code",
   "execution_count": 27,
   "metadata": {},
   "outputs": [
    {
     "data": {
      "image/png": "[encoded data removed]",
      "text/plain": [
       "<Figure size 720x720 with 1 Axes>"
      ]
     },
     "metadata": {
      "needs_background": "light"
     },
     "output_type": "display_data"
    }
   ],
   "source": [
    "#هنبدا نطلع علاقات بين الداتا ما بين كل داتا علي حده \n",
    "#حجم الرسمه بتاعتي\n",
    "plt.figure(figsize=(10,10))\n",
    "#hue  مشش فاهم قصده كويسالي في اخر الكود يعتبر الاساس\n",
    "x1=sns.countplot(x=\"room_type\",data=data_new,hue=\"neighbourhood_group\")"
   ]
  },
  {
   "cell_type": "code",
   "execution_count": 28,
   "metadata": {},
   "outputs": [
    {
     "data": {
      "text/plain": [
       "<matplotlib.axes._subplots.AxesSubplot at 0x212ada24828>"
      ]
     },
     "execution_count": 28,
     "metadata": {},
     "output_type": "execute_result"
    },
    {
     "data": {
      "image/png": "[encoded data removed]",
      "text/plain": [
       "<Figure size 432x288 with 1 Axes>"
      ]
     },
     "metadata": {
      "needs_background": "light"
     },
     "output_type": "display_data"
    }
   ],
   "source": [
    "# الموجودين عنديout liers بتحددلي \n",
    "#Xالاساس و Y الفرعي\n",
    "sns.boxenplot(x=\"neighbourhood_group\",y=\"price\",data=data_new)"
   ]
  },
  {
   "cell_type": "code",
   "execution_count": 29,
   "metadata": {},
   "outputs": [],
   "source": [
    "#بعد الرن هيطلع كل الي فوق out liers و الي تحت متصلين\n",
    "#هنعمل داتا جديده نتخلص فيها من الداتا الزياده في السعر\n",
    "data_price=data_new[data_new[\"price\"]<=400]"
   ]
  },
  {
   "cell_type": "code",
   "execution_count": 30,
   "metadata": {},
   "outputs": [
    {
     "data": {
      "text/plain": [
       "<matplotlib.axes._subplots.AxesSubplot at 0x212adb12b00>"
      ]
     },
     "execution_count": 30,
     "metadata": {},
     "output_type": "execute_result"
    },
    {
     "data": {
      "image/png": "[encoded data removed]",
      "text/plain": [
       "<Figure size 432x288 with 1 Axes>"
      ]
     },
     "metadata": {
      "needs_background": "light"
     },
     "output_type": "display_data"
    }
   ],
   "source": [
    "#عايزين نعرض الداتا بس في شكل هيستوجرام\n",
    "data_price.price.plot(kind=\"hist\")"
   ]
  },
  {
   "cell_type": "code",
   "execution_count": 31,
   "metadata": {},
   "outputs": [
    {
     "data": {
      "text/plain": [
       "<matplotlib.axes._subplots.AxesSubplot at 0x212adf129e8>"
      ]
     },
     "execution_count": 31,
     "metadata": {},
     "output_type": "execute_result"
    },
    {
     "data": {
      "image/png": "[encoded data removed]",
      "text/plain": [
       "<Figure size 432x288 with 1 Axes>"
      ]
     },
     "metadata": {
      "needs_background": "light"
     },
     "output_type": "display_data"
    }
   ],
   "source": [
    "#علاقه جديده\n",
    "# رينج الاسعار الاكثر تكرارا\n",
    "#هتساعدني في حجات كتير جدا لانها ممثله بيانيا\n",
    "sns.boxenplot(x=\"neighbourhood_group\",y=\"price\",data=data_price)\n"
   ]
  },
  {
   "cell_type": "code",
   "execution_count": 32,
   "metadata": {},
   "outputs": [
    {
     "data": {
      "text/plain": [
       "<Figure size 720x504 with 0 Axes>"
      ]
     },
     "execution_count": 32,
     "metadata": {},
     "output_type": "execute_result"
    },
    {
     "data": {
      "text/plain": [
       "<Figure size 720x504 with 0 Axes>"
      ]
     },
     "metadata": {},
     "output_type": "display_data"
    }
   ],
   "source": [
    "#هنعمل حاجه جديده\n",
    "plt.figure(figsize=(10,7))"
   ]
  },
  {
   "cell_type": "code",
   "execution_count": 33,
   "metadata": {},
   "outputs": [
    {
     "data": {
      "text/plain": [
       "<matplotlib.axes._subplots.AxesSubplot at 0x212ae5eac50>"
      ]
     },
     "execution_count": 33,
     "metadata": {},
     "output_type": "execute_result"
    },
    {
     "data": {
      "image/png": "[encoded data removed]",
      "text/plain": [
       "<Figure size 432x288 with 1 Axes>"
      ]
     },
     "metadata": {
      "needs_background": "light"
     },
     "output_type": "display_data"
    }
   ],
   "source": [
    "#هجيب نسبه اليفيو بالنسبه للغرف 3 انواع \n",
    "data_price.groupby([\"room_type\"]).count()[\"number_of_reviews\"].plot(kind=\"bar\",alpha=.6)\n"
   ]
  },
  {
   "cell_type": "code",
   "execution_count": 34,
   "metadata": {},
   "outputs": [
    {
     "data": {
      "text/plain": [
       "<matplotlib.axes._subplots.AxesSubplot at 0x212ae66c080>"
      ]
     },
     "execution_count": 34,
     "metadata": {},
     "output_type": "execute_result"
    },
    {
     "data": {
      "image/png": "[encoded data removed]",
      "text/plain": [
       "<Figure size 432x288 with 1 Axes>"
      ]
     },
     "metadata": {
      "needs_background": "light"
     },
     "output_type": "display_data"
    }
   ],
   "source": [
    "#هنعمله بالنسبه للمناطق\n",
    "data_price.groupby([\"neighbourhood_group\"]).count()[\"number_of_reviews\"].plot(kind=\"bar\",alpha=.6)\n"
   ]
  },
  {
   "cell_type": "code",
   "execution_count": null,
   "metadata": {},
   "outputs": [],
   "source": []
  }
 ],
 "metadata": {
  "kernelspec": {
   "display_name": "Python 3",
   "language": "python",
   "name": "python3"
  },
  "language_info": {
   "codemirror_mode": {
    "name": "ipython",
    "version": 3
   },
   "file_extension": ".py",
   "mimetype": "text/x-python",
   "name": "python",
   "nbconvert_exporter": "python",
   "pygments_lexer": "ipython3",
   "version": "3.7.3"
  }
 },
 "nbformat": 4,
 "nbformat_minor": 4
}
